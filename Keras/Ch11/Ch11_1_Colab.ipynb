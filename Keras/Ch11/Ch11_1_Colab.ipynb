{
  "nbformat": 4,
  "nbformat_minor": 0,
  "metadata": {
    "colab": {
      "name": "Ch11_1_Colab.ipynb",
      "version": "0.3.2",
      "provenance": [],
      "private_outputs": true
    },
    "kernelspec": {
      "name": "python3",
      "display_name": "Python 3"
    },
    "accelerator": "GPU"
  },
  "cells": [
    {
      "cell_type": "code",
      "metadata": {
        "id": "7toR8Z6WnNtV",
        "colab_type": "code",
        "colab": {}
      },
      "source": [
        "from keras.datasets import imdb\n",
        "import numpy as np\n",
        "\n",
        "# 保留 np.load\n",
        "np_load_old = np.load\n",
        "# 修改 np.load 參數, allow_pickle=True\n",
        "np.load = lambda *a,**k: np_load_old(*a, allow_pickle=True, **k)\n",
        "# 載入 IMDb 資料集, 如果是第一次載入會自行下載資料集\n",
        "top_words = 1000\n",
        "(X_train, Y_train), (X_test, Y_test) = imdb.load_data(\n",
        "                                num_words=top_words)\n",
        "# 回存 np.load\n",
        "np.load = np_load_old\n",
        "# 形狀\n",
        "print(\"X_train.shape: \", X_train.shape)\n",
        "print(\"Y_train.shape: \", Y_train.shape)\n",
        "print(\"X_test.shape: \", X_test.shape)\n",
        "print(\"Y_test.shape: \", Y_test.shape)\n",
        "# 顯示 Numpy 陣列內容\n",
        "print(X_train[0])\n",
        "print(Y_train[0])   # 標籤資料"
      ],
      "execution_count": 0,
      "outputs": []
    }
  ]
}