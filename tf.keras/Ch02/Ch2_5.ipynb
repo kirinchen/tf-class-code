{
 "cells": [
  {
   "cell_type": "code",
   "execution_count": 2,
   "metadata": {
    "colab": {
     "base_uri": "https://localhost:8080/",
     "height": 283
    },
    "colab_type": "code",
    "id": "KloNHrn0Qs3H",
    "outputId": "270b3a26-f81e-4727-c13a-19792600e4a4"
   },
   "outputs": [
    {
     "data": {
      "image/png": "[encoded data removed]",
      "text/plain": [
       "<Figure size 432x288 with 1 Axes>"
      ]
     },
     "metadata": {
      "needs_background": "light"
     },
     "output_type": "display_data"
    }
   ],
   "source": [
    "import numpy as np\n",
    "import matplotlib.pyplot as plt\n",
    "from tensorflow.keras.models import Sequential\n",
    "from tensorflow.keras.layers import Dense\n",
    "\n",
    "np.random.seed(10)  # 指定亂數種子\n",
    "# 建立測試資料\n",
    "X = np.linspace(-1, 1, 300)\n",
    "np.random.shuffle(X)  # 使用亂數打亂資料\n",
    "Y = 0.3 * X + 5 + np.random.normal(0, 0.05, (300, ))\n",
    "# 繪出資料的散佈圖\n",
    "plt.scatter(X, Y)\n",
    "plt.xlabel(\"X\")\n",
    "plt.ylabel(\"Y\")\n",
    "\n",
    "plt.show()"
   ]
  },
  {
   "cell_type": "code",
   "execution_count": 159,
   "metadata": {
    "colab": {
     "base_uri": "https://localhost:8080/",
     "height": 204
    },
    "colab_type": "code",
    "id": "BTJfwHk-RLSl",
    "outputId": "5cbbe69e-97c4-4ea0-b7ed-c25673bff841"
   },
   "outputs": [
    {
     "name": "stdout",
     "output_type": "stream",
     "text": [
      "_________________________________________________________________\n",
      "Layer (type)                 Output Shape              Param #   \n",
      "=================================================================\n",
      "dense_53 (Dense)             (None, 2)                 4         \n",
      "_________________________________________________________________\n",
      "dense_54 (Dense)             (None, 1)                 3         \n",
      "=================================================================\n",
      "Total params: 7\n",
      "Trainable params: 7\n",
      "Non-trainable params: 0\n",
      "_________________________________________________________________\n"
     ]
    }
   ],
   "source": [
    "X_train, Y_train = X[:270], Y[:270]     # 訓練資料前270點\n",
    "X_test, Y_test = X[270:], Y[270:]       # 測試資料後30點\n",
    "\n",
    "# 建立Keras的Sequential模型\n",
    "model = Sequential()\n",
    "model.add(Dense(2, input_dim=1))        # 隱藏層 2個神經元\n",
    "model.add(Dense(1))                     # 輸出層 1個神經元\n",
    "# 編譯模型\n",
    "model.compile(loss=\"mse\", optimizer=\"sgd\", metrics=[\"accuracy\"])\n",
    "model.summary()"
   ]
  },
  {
   "cell_type": "code",
   "execution_count": 160,
   "metadata": {
    "colab": {
     "base_uri": "https://localhost:8080/",
     "height": 391
    },
    "colab_type": "code",
    "id": "Cis41sD8E2lr",
    "outputId": "100e996f-9aee-4388-efa7-796494c35a40"
   },
   "outputs": [
    {
     "name": "stdout",
     "output_type": "stream",
     "text": [
      "Training ....\n",
      "Train on 216 samples, validate on 54 samples\n",
      "Epoch 1/10\n",
      "216/216 [==============================] - 1s 4ms/step - loss: 19.1920 - acc: 0.0000e+00 - val_loss: 11.0863 - val_acc: 0.0000e+00\n",
      "Epoch 2/10\n",
      "216/216 [==============================] - 0s 151us/step - loss: 7.1658 - acc: 0.0000e+00 - val_loss: 2.5148 - val_acc: 0.0000e+00\n",
      "Epoch 3/10\n",
      "216/216 [==============================] - 0s 147us/step - loss: 1.2849 - acc: 0.0000e+00 - val_loss: 0.2441 - val_acc: 0.0000e+00\n",
      "Epoch 4/10\n",
      "216/216 [==============================] - 0s 134us/step - loss: 0.1127 - acc: 0.0000e+00 - val_loss: 0.0202 - val_acc: 0.0000e+00\n",
      "Epoch 5/10\n",
      "216/216 [==============================] - 0s 115us/step - loss: 0.0110 - acc: 0.0000e+00 - val_loss: 0.0055 - val_acc: 0.0000e+00\n",
      "Epoch 6/10\n",
      "216/216 [==============================] - 0s 121us/step - loss: 0.0038 - acc: 0.0000e+00 - val_loss: 0.0037 - val_acc: 0.0000e+00\n",
      "Epoch 7/10\n",
      "216/216 [==============================] - 0s 119us/step - loss: 0.0028 - acc: 0.0000e+00 - val_loss: 0.0034 - val_acc: 0.0000e+00\n",
      "Epoch 8/10\n",
      "216/216 [==============================] - 0s 116us/step - loss: 0.0026 - acc: 0.0000e+00 - val_loss: 0.0033 - val_acc: 0.0000e+00\n",
      "Epoch 9/10\n",
      "216/216 [==============================] - 0s 127us/step - loss: 0.0025 - acc: 0.0000e+00 - val_loss: 0.0032 - val_acc: 0.0000e+00\n",
      "Epoch 10/10\n",
      "216/216 [==============================] - 0s 139us/step - loss: 0.0025 - acc: 0.0000e+00 - val_loss: 0.0031 - val_acc: 0.0000e+00\n"
     ]
    }
   ],
   "source": [
    "# 訓練模型\n",
    "print(\"Training ....\")\n",
    "history = model.fit(X_train, Y_train, validation_split=0.2, epochs=10, batch_size=30)"
   ]
  },
  {
   "cell_type": "code",
   "execution_count": 161,
   "metadata": {
    "colab": {
     "base_uri": "https://localhost:8080/",
     "height": 295
    },
    "colab_type": "code",
    "id": "bnz6bN_T_-ZP",
    "outputId": "e184dd3d-eb3f-4d87-cace-9c5bf858448a"
   },
   "outputs": [
    {
     "data": {
      "image/png": "[encoded data removed]",
      "text/plain": [
       "<Figure size 432x288 with 1 Axes>"
      ]
     },
     "metadata": {
      "tags": []
     },
     "output_type": "display_data"
    }
   ],
   "source": [
    "# 顯示訓練和驗證損失\n",
    "loss = history.history[\"loss\"]\n",
    "val_loss = history.history[\"val_loss\"]\n",
    "epochs = range(1, len(loss)+1)\n",
    "\n",
    "plt.plot(epochs, loss, \"bo\", label=\"Training Loss\")\n",
    "plt.plot(epochs, val_loss, \"b\", label=\"Validation Loss\")\n",
    "plt.title(\"Training and Validation Loss\")\n",
    "plt.xlabel(\"Epochs\")\n",
    "plt.ylabel(\"Loss\")\n",
    "plt.legend()\n",
    "\n",
    "plt.show()"
   ]
  },
  {
   "cell_type": "code",
   "execution_count": 162,
   "metadata": {
    "colab": {
     "base_uri": "https://localhost:8080/",
     "height": 238
    },
    "colab_type": "code",
    "id": "r0rQP1VF-TL6",
    "outputId": "4b4cf5ed-d82f-4c40-91da-7c395e85327f"
   },
   "outputs": [
    {
     "name": "stdout",
     "output_type": "stream",
     "text": [
      "\n",
      "Testing ...\n",
      "\r",
      "30/30 [==============================] - 0s 142us/step\n",
      "Test Cost = [0.0022726247552782297, 0.0]\n",
      "\n",
      "Hidden Layer ...\n",
      "Weights= [[ 1.2978401 -0.9191184]] \n",
      "biases= [-0.8925265 -1.5456991]\n",
      "\n",
      "Output Layer ...\n",
      "Weights= [[-1.0168824]\n",
      " [-1.7875388]] \n",
      "biases= [1.3233074]\n"
     ]
    }
   ],
   "source": [
    "# 測試模型\n",
    "print(\"\\nTesting ...\")\n",
    "cost = model.evaluate(X_test, Y_test, batch_size=30)\n",
    "print(\"Test Cost =\", cost)\n",
    "print(\"\\nHidden Layer ...\")\n",
    "W, b = model.layers[0].get_weights()\n",
    "print(\"Weights=\", W, \"\\nbiases=\", b)  \n",
    "print(\"\\nOutput Layer ...\")\n",
    "W, b = model.layers[1].get_weights()\n",
    "print(\"Weights=\", W, \"\\nbiases=\", b)  "
   ]
  },
  {
   "cell_type": "code",
   "execution_count": 163,
   "metadata": {
    "colab": {
     "base_uri": "https://localhost:8080/",
     "height": 283
    },
    "colab_type": "code",
    "id": "Av1gobtwRnAB",
    "outputId": "6f2972d4-a800-4c9b-85d6-0b0495b8a142"
   },
   "outputs": [
    {
     "data": {
      "image/png": "[encoded data removed]",
      "text/plain": [
       "<Figure size 432x288 with 1 Axes>"
      ]
     },
     "metadata": {
      "tags": []
     },
     "output_type": "display_data"
    }
   ],
   "source": [
    "# 預測模型\n",
    "Y_pred = model.predict(X_test)\n",
    "plt.scatter(X_test, Y_test)\n",
    "plt.plot(X_test, Y_pred)\n",
    "plt.xlabel(\"X\")\n",
    "plt.ylabel(\"Y\")\n",
    "\n",
    "plt.show()"
   ]
  }
 ],
 "metadata": {
  "accelerator": "GPU",
  "colab": {
   "collapsed_sections": [],
   "name": "Ch2_5.ipynb",
   "provenance": [],
   "version": "0.3.2"
  },
  "kernelspec": {
   "display_name": "Python 3",
   "language": "python",
   "name": "python3"
  },
  "language_info": {
   "codemirror_mode": {
    "name": "ipython",
    "version": 3
   },
   "file_extension": ".py",
   "mimetype": "text/x-python",
   "name": "python",
   "nbconvert_exporter": "python",
   "pygments_lexer": "ipython3",
   "version": "3.7.4"
  }
 },
 "nbformat": 4,
 "nbformat_minor": 1
}
